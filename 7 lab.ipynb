{
 "cells": [
  {
   "metadata": {},
   "cell_type": "markdown",
   "source": "Для функции сформировать множество её значений (по результатам вызовов). Оформить в виде декоратора.",
   "id": "d8267a44ff29fb49"
  },
  {
   "cell_type": "code",
   "id": "initial_id",
   "metadata": {
    "collapsed": true,
    "ExecuteTime": {
     "end_time": "2024-11-28T14:41:48.281264Z",
     "start_time": "2024-11-28T14:41:48.278435Z"
    }
   },
   "source": [
    "def collect_results(func):\n",
    "    \"\"\"\n",
    "    Декоратор для сохранения уникальных значений,\n",
    "    возвращаемых функцией, в виде множества.\n",
    "    \"\"\"\n",
    "    results = set()\n",
    "\n",
    "    def wrapper(*args, **kwargs):\n",
    "        result = func(*args, **kwargs)\n",
    "        results.add(result)\n",
    "        print(f\"Текущее множество значений: {results}\")\n",
    "        return result\n",
    "\n",
    "    wrapper.results = results\n",
    "    return wrapper\n",
    "\n",
    "@collect_results\n",
    "def square(x):\n",
    "    \"\"\"Возвращает квадрат числа.\"\"\"\n",
    "    return x * x\n",
    "\n",
    "square(2)\n",
    "square(3)\n",
    "square(2)\n",
    "square(4)\n",
    "\n",
    "print(f\"Уникальные результаты вызовов: {square.results}\")"
   ],
   "outputs": [
    {
     "name": "stdout",
     "output_type": "stream",
     "text": [
      "Текущее множество значений: {4}\n",
      "Текущее множество значений: {9, 4}\n",
      "Текущее множество значений: {9, 4}\n",
      "Текущее множество значений: {16, 9, 4}\n",
      "Уникальные результаты вызовов: {16, 9, 4}\n"
     ]
    }
   ],
   "execution_count": 1
  },
  {
   "metadata": {},
   "cell_type": "markdown",
   "source": "Для функции сделать обратную функцию (запоминать аргумент и результат работы функции в словаре – как в кеше, только наоборот поменять местами ключ и значение. На основе этого словаря и сделать обратную функцию) В качестве образца для этих заданий взять декораторы cache и log.",
   "id": "d96ab41837562380"
  },
  {
   "metadata": {
    "ExecuteTime": {
     "end_time": "2024-11-28T14:43:42.000412Z",
     "start_time": "2024-11-28T14:43:41.994239Z"
    }
   },
   "cell_type": "code",
   "source": [
    "def inverse_function(func):\n",
    "    \"\"\"\n",
    "    Декоратор, создающий обратную функцию для указанной функции.\n",
    "    Запоминает аргументы и результаты в виде словаря: результат → аргумент.\n",
    "    \"\"\"\n",
    "    cache = {}  \n",
    "    \n",
    "    def wrapper(*args, **kwargs):\n",
    "        result = func(*args, **kwargs)\n",
    "        cache[result] = args if len(args) > 1 else args[0]\n",
    "        return result\n",
    "\n",
    "    def inverse(value):\n",
    "        \"\"\"Обратная функция: находит аргументы по результату.\"\"\"\n",
    "        return cache.get(value, None)\n",
    "\n",
    "    wrapper.inverse = inverse\n",
    "    return wrapper\n",
    "\n",
    "@inverse_function\n",
    "def square(x):\n",
    "    return x * x\n",
    "\n",
    "print(square(2))  # 4\n",
    "print(square(3))  # 9\n",
    "print(square(4))  # 16\n",
    "\n",
    "print(square.inverse(9))   # 3\n",
    "print(square.inverse(16))  # 4\n",
    "print(square.inverse(25))  # None (нет такого результата)"
   ],
   "id": "8ab19be9a90a1e6d",
   "outputs": [
    {
     "name": "stdout",
     "output_type": "stream",
     "text": [
      "4\n",
      "9\n",
      "16\n",
      "3\n",
      "4\n",
      "None\n"
     ]
    }
   ],
   "execution_count": 2
  }
 ],
 "metadata": {
  "kernelspec": {
   "display_name": "Python 3",
   "language": "python",
   "name": "python3"
  },
  "language_info": {
   "codemirror_mode": {
    "name": "ipython",
    "version": 2
   },
   "file_extension": ".py",
   "mimetype": "text/x-python",
   "name": "python",
   "nbconvert_exporter": "python",
   "pygments_lexer": "ipython2",
   "version": "2.7.6"
  }
 },
 "nbformat": 4,
 "nbformat_minor": 5
}
