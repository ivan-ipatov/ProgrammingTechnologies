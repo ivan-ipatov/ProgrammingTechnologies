{
 "cells": [
  {
   "metadata": {},
   "cell_type": "markdown",
   "source": "Написать структурное и процедурное решение для вычисления факториала рекурсивным методом.",
   "id": "56f9f77d64b127e8"
  },
  {
   "metadata": {},
   "cell_type": "markdown",
   "source": "Структурное решение",
   "id": "574c88e18caf7752"
  },
  {
   "cell_type": "code",
   "id": "initial_id",
   "metadata": {
    "collapsed": true,
    "ExecuteTime": {
     "end_time": "2024-11-28T14:25:48.465546Z",
     "start_time": "2024-11-28T14:25:46.254166Z"
    }
   },
   "source": [
    "def get_input():\n",
    "    \"\"\"Получает от пользователя число для вычисления факториала.\"\"\"\n",
    "    try:\n",
    "        number = int(input(\"Введите число для вычисления факториала: \"))\n",
    "        if number < 0:\n",
    "            print(\"Факториал определяется только для неотрицательных чисел.\")\n",
    "            return None\n",
    "        return number\n",
    "    except ValueError:\n",
    "        print(\"Ошибка! Введите целое число.\")\n",
    "        return None\n",
    "\n",
    "def factorial(n):\n",
    "    \"\"\"Рекурсивно вычисляет факториал числа.\"\"\"\n",
    "    if n == 0 or n == 1:\n",
    "        return 1\n",
    "    else:\n",
    "        return n * factorial(n - 1)\n",
    "\n",
    "def display_result(number, result):\n",
    "    \"\"\"Выводит результат факториала.\"\"\"\n",
    "    print(f\"Факториал числа {number} равен {result}\")\n",
    "\n",
    "def main():\n",
    "    \"\"\"Основная логика программы.\"\"\"\n",
    "    number = get_input()\n",
    "    if number is not None:\n",
    "        result = factorial(number)\n",
    "        display_result(number, result)\n",
    "\n",
    "# Запуск программы\n",
    "main()"
   ],
   "outputs": [
    {
     "name": "stdout",
     "output_type": "stream",
     "text": [
      "Факториал числа 10 равен 3628800\n"
     ]
    }
   ],
   "execution_count": 5
  },
  {
   "metadata": {},
   "cell_type": "markdown",
   "source": "Процедурное решение",
   "id": "16069816e2b055e4"
  },
  {
   "metadata": {
    "ExecuteTime": {
     "end_time": "2024-11-28T14:25:53.689177Z",
     "start_time": "2024-11-28T14:25:51.161463Z"
    }
   },
   "cell_type": "code",
   "source": [
    "def main():\n",
    "    \"\"\"Вычисляет факториал числа с рекурсией.\"\"\"\n",
    "    try:\n",
    "        number = int(input(\"Введите число для вычисления факториала: \"))\n",
    "        if number < 0:\n",
    "            print(\"Факториал определяется только для неотрицательных чисел.\")\n",
    "        else:\n",
    "            def factorial(n):\n",
    "                if n == 0 or n == 1:\n",
    "                    return 1\n",
    "                else:\n",
    "                    return n * factorial(n - 1)\n",
    "            \n",
    "            result = factorial(number)\n",
    "            print(f\"Факториал числа {number} равен {result}\")\n",
    "    except ValueError:\n",
    "        print(\"Ошибка! Введите целое число.\")\n",
    "\n",
    "# Запуск программы\n",
    "main()"
   ],
   "id": "4f573d665572c0f0",
   "outputs": [
    {
     "name": "stdout",
     "output_type": "stream",
     "text": [
      "Факториал числа 6 равен 720\n"
     ]
    }
   ],
   "execution_count": 6
  },
  {
   "metadata": {},
   "cell_type": "markdown",
   "source": "Написать структурное и процедурное решение для вычисления суммы факториалов рекурсивным методом.",
   "id": "ca08f7ce9a18430"
  },
  {
   "metadata": {},
   "cell_type": "markdown",
   "source": "Структурное решение",
   "id": "9c9827cb75d56544"
  },
  {
   "metadata": {
    "ExecuteTime": {
     "end_time": "2024-11-28T14:25:59.167368Z",
     "start_time": "2024-11-28T14:25:56.987697Z"
    }
   },
   "cell_type": "code",
   "source": [
    "def get_input():\n",
    "    \"\"\"Получает от пользователя число N для вычисления суммы факториалов.\"\"\"\n",
    "    try:\n",
    "        number = int(input(\"Введите число N для вычисления суммы факториалов: \"))\n",
    "        if number < 0:\n",
    "            print(\"Число должно быть неотрицательным.\")\n",
    "            return None\n",
    "        return number\n",
    "    except ValueError:\n",
    "        print(\"Ошибка! Введите целое число.\")\n",
    "        return None\n",
    "\n",
    "def factorial(n):\n",
    "    \"\"\"Рекурсивно вычисляет факториал числа n.\"\"\"\n",
    "    if n == 0 or n == 1:\n",
    "        return 1\n",
    "    else:\n",
    "        return n * factorial(n - 1)\n",
    "\n",
    "def sum_of_factorials(n):\n",
    "    \"\"\"Вычисляет сумму факториалов от 1 до n.\"\"\"\n",
    "    if n == 0:\n",
    "        return 0\n",
    "    else:\n",
    "        return factorial(n) + sum_of_factorials(n - 1)\n",
    "\n",
    "def display_result(number, result):\n",
    "    \"\"\"Выводит результат суммы факториалов.\"\"\"\n",
    "    print(f\"Сумма факториалов от 1 до {number} равна {result}\")\n",
    "\n",
    "def main():\n",
    "    \"\"\"Основная логика программы.\"\"\"\n",
    "    number = get_input()\n",
    "    if number is not None:\n",
    "        result = sum_of_factorials(number)\n",
    "        display_result(number, result)\n",
    "\n",
    "# Запуск программы\n",
    "main()"
   ],
   "id": "9d4456785a93fa20",
   "outputs": [
    {
     "name": "stdout",
     "output_type": "stream",
     "text": [
      "Сумма факториалов от 1 до 10 равна 4037913\n"
     ]
    }
   ],
   "execution_count": 7
  },
  {
   "metadata": {},
   "cell_type": "markdown",
   "source": "Процедурное решение",
   "id": "8e56979a7b270bfd"
  },
  {
   "metadata": {
    "ExecuteTime": {
     "end_time": "2024-11-28T14:26:04.815885Z",
     "start_time": "2024-11-28T14:26:02.796482Z"
    }
   },
   "cell_type": "code",
   "source": [
    "def main():\n",
    "    \"\"\"Вычисляет сумму факториалов чисел от 1 до N.\"\"\"\n",
    "    try:\n",
    "        number = int(input(\"Введите число N для вычисления суммы факториалов: \"))\n",
    "        if number < 0:\n",
    "            print(\"Число должно быть неотрицательным.\")\n",
    "        else:\n",
    "            def factorial(n):\n",
    "                if n == 0 or n == 1:\n",
    "                    return 1\n",
    "                else:\n",
    "                    return n * factorial(n - 1)\n",
    "\n",
    "            def sum_of_factorials(n):\n",
    "                if n == 0:\n",
    "                    return 0\n",
    "                else:\n",
    "                    return factorial(n) + sum_of_factorials(n - 1)\n",
    "\n",
    "            result = sum_of_factorials(number)\n",
    "            print(f\"Сумма факториалов от 1 до {number} равна {result}\")\n",
    "    except ValueError:\n",
    "        print(\"Ошибка! Введите целое число.\")\n",
    "\n",
    "# Запуск программы\n",
    "main()"
   ],
   "id": "69c15778897a758c",
   "outputs": [
    {
     "name": "stdout",
     "output_type": "stream",
     "text": [
      "Сумма факториалов от 1 до 10 равна 4037913\n"
     ]
    }
   ],
   "execution_count": 8
  }
 ],
 "metadata": {
  "kernelspec": {
   "display_name": "Python 3",
   "language": "python",
   "name": "python3"
  },
  "language_info": {
   "codemirror_mode": {
    "name": "ipython",
    "version": 2
   },
   "file_extension": ".py",
   "mimetype": "text/x-python",
   "name": "python",
   "nbconvert_exporter": "python",
   "pygments_lexer": "ipython2",
   "version": "2.7.6"
  }
 },
 "nbformat": 4,
 "nbformat_minor": 5
}
