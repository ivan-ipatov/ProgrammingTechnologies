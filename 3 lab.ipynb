{
 "cells": [
  {
   "metadata": {},
   "cell_type": "markdown",
   "source": [
    "Идет чемпионат по компьютерной игре. Вводятся количество сыгранных партий, имена игроков и количество набранных баллов каждого игрока. Каждый игрок может сыграть несколько партий.\n",
    "\n",
    "Пример вводимых данных:\n",
    "\n",
    "n=5\n",
    "\n",
    "Иванов 10\n",
    "\n",
    "Петров 20\n",
    "\n",
    "Сидоров 30\n",
    "\n",
    "Иванов 30\n",
    "\n",
    "Сидоров 20\n",
    "\n",
    "Определить, кто является победителем чемпионата (более сложный вариант – составьте рейтинг игроков). Для каждого игрока учитывается только его лучшая игра. Если максимальное количество очков набрало несколько игроков, то победителем считается тот игрок, который набрал максимум раньше всех. Используйте словари."
   ],
   "id": "12b50a532b242c96"
  },
  {
   "cell_type": "code",
   "id": "initial_id",
   "metadata": {
    "collapsed": true,
    "ExecuteTime": {
     "end_time": "2024-10-17T11:23:18.011030Z",
     "start_time": "2024-10-17T11:23:18.005339Z"
    }
   },
   "source": [
    "n = 5\n",
    "games = [\n",
    "    (\"Иванов\", 10),\n",
    "    (\"Петров\", 20),\n",
    "    (\"Сидоров\", 30),\n",
    "    (\"Иванов\", 30),\n",
    "    (\"Сидоров\", 20),\n",
    "]\n",
    "\n",
    "best_scores = {}\n",
    "\n",
    "# Обработка партий\n",
    "index = 0\n",
    "for game in games:\n",
    "    name, score = game\n",
    "    # Если игрока еще нет в словаре или его текущий результат лучше, чем сохраненный\n",
    "    if name not in best_scores or score > best_scores[name][0]:\n",
    "        best_scores[name] = (score, index)\n",
    "    index += 1\n",
    "\n",
    "# Определение победителя\n",
    "winner = None\n",
    "for name, (score, idx) in best_scores.items():\n",
    "    if winner is None:\n",
    "        winner = (name, score, idx)\n",
    "    else:\n",
    "        # Сравнение очков и номеров партий\n",
    "        if score > winner[1] or (score == winner[1] and idx < winner[2]):\n",
    "            winner = (name, score, idx)\n",
    "\n",
    "print(f\"Победитель: {winner[0]}, набранные очки: {winner[1]}\")\n",
    "\n",
    "# Составление рейтинга игроков по убыванию их лучшего результата\n",
    "ranking = []\n",
    "for name, (score, idx) in best_scores.items():\n",
    "    ranking.append((name, score, idx))\n",
    "\n",
    "# Сортировка рейтинга\n",
    "for i in range(len(ranking) - 1):\n",
    "    for j in range(len(ranking) - i - 1):\n",
    "        # Сравнение очков и номеров партий\n",
    "        if ranking[j][1] < ranking[j + 1][1] or (ranking[j][1] == ranking[j + 1][1] and ranking[j][2] > ranking[j + 1][2]):\n",
    "            ranking[j], ranking[j + 1] = ranking[j + 1], ranking[j]\n",
    "\n",
    "print(\"Рейтинг игроков:\")\n",
    "position = 1\n",
    "for entry in ranking:\n",
    "    print(f\"{position}. {entry[0]} - {entry[1]} очков\")\n",
    "    position += 1\n"
   ],
   "outputs": [
    {
     "name": "stdout",
     "output_type": "stream",
     "text": [
      "Победитель: Сидоров, набранные очки: 30\n",
      "Рейтинг игроков:\n",
      "1. Сидоров - 30 очков\n",
      "2. Иванов - 30 очков\n",
      "3. Петров - 20 очков\n"
     ]
    }
   ],
   "execution_count": 3
  },
  {
   "metadata": {},
   "cell_type": "markdown",
   "source": "Вводится матрица. Найти её седловину (клетку, значение которой является максимумом по строке и минимуму по столбцу или наоборот). Учесть, что седловин может быть несколько.",
   "id": "cea15f4f349cfba1"
  },
  {
   "metadata": {},
   "cell_type": "code",
   "outputs": [],
   "execution_count": null,
   "source": [
    "matrix = [\n",
    "    [3, 8, 4],\n",
    "    [2, 7, 6],\n",
    "    [5, 1, 9]\n",
    "]\n",
    "\n",
    "rows = len(matrix)\n",
    "cols = len(matrix[0])\n",
    "\n",
    "saddle_points = []\n",
    "\n",
    "# Поиск седловин\n",
    "for i in range(rows):\n",
    "    for j in range(cols):\n",
    "        value = matrix[i][j]\n",
    "        \n",
    "        # Проверка на максимум по строке и минимум по столбцу\n",
    "        if value == max(matrix[i]) and all(value <= matrix[k][j] for k in range(rows)):\n",
    "            saddle_points.append((i, j, value))\n",
    "        \n",
    "        # Проверка на минимум по строке и максимум по столбцу\n",
    "        if value == min(matrix[i]) and all(value >= matrix[k][j] for k in range(rows)):\n",
    "            saddle_points.append((i, j, value))\n",
    "\n",
    "\n",
    "if saddle_points:\n",
    "    print(\"Седловины найдены в следующих позициях (строка, столбец, значение):\")\n",
    "    for point in saddle_points:\n",
    "        print(f\"Строка {point[0]}, Столбец {point[1]}, Значение {point[2]}\")\n",
    "else:\n",
    "    print(\"Седловины не найдены.\")"
   ],
   "id": "9d88134f2e22b7b7"
  },
  {
   "metadata": {},
   "cell_type": "markdown",
   "source": [
    "На вход программе подается:\n",
    "\n",
    "1. Зашифрованная строка.\n",
    "\n",
    "2. N – число букв в словаре.\n",
    "\n",
    "3. N строк, в которых в формате «буква: частота» указывается, сколько раз каждая буква встречается в слове.\n",
    "\n",
    "Программа выводит расшифрованное слово.\n",
    "\n",
    "\n",
    "Пример ввода:\n",
    "\n",
    "!\\*!\\*?\n",
    "\n",
    "3\n",
    "\n",
    "o: 1\n",
    "\n",
    "a: 2\n",
    "\n",
    "k: 2\n",
    "\n",
    "Пример вывода:\n",
    "\n",
    "kakao"
   ],
   "id": "c9c2822758dfd7a"
  },
  {
   "metadata": {
    "ExecuteTime": {
     "end_time": "2024-10-17T11:20:33.917529Z",
     "start_time": "2024-10-17T11:20:33.912736Z"
    }
   },
   "cell_type": "code",
   "source": [
    "# Ввод данных\n",
    "encrypted_string = \"!*!*?\"\n",
    "n = 3\n",
    "frequency_list = [\n",
    "    \"o: 1\",\n",
    "    \"a: 2\",\n",
    "    \"k: 2\"\n",
    "]\n",
    "\n",
    "letter_frequency = {}\n",
    "for entry in frequency_list:\n",
    "    letter, freq = entry.split(\": \")\n",
    "    letter_frequency[letter] = int(freq)\n",
    "\n",
    "encrypted_frequency = {}\n",
    "for char in encrypted_string:\n",
    "    if char in encrypted_frequency:\n",
    "        encrypted_frequency[char] += 1\n",
    "    else:\n",
    "        encrypted_frequency[char] = 1\n",
    "\n",
    "sorted_letters = sorted(letter_frequency.items(), key=lambda x: x[1])\n",
    "sorted_encrypted = sorted(encrypted_frequency.items(), key=lambda x: x[1])\n",
    "\n",
    "decode_map = {}\n",
    "for (letter, _), (symbol, _) in zip(sorted_letters, sorted_encrypted):\n",
    "    decode_map[symbol] = letter\n",
    "\n",
    "decoded_string = ''.join(decode_map[char] for char in encrypted_string)\n",
    "\n",
    "print(decoded_string)"
   ],
   "id": "11ffd2f6037d1c95",
   "outputs": [
    {
     "name": "stdout",
     "output_type": "stream",
     "text": [
      "кaбaк\n"
     ]
    }
   ],
   "execution_count": 2
  }
 ],
 "metadata": {
  "kernelspec": {
   "display_name": "Python 3",
   "language": "python",
   "name": "python3"
  },
  "language_info": {
   "codemirror_mode": {
    "name": "ipython",
    "version": 2
   },
   "file_extension": ".py",
   "mimetype": "text/x-python",
   "name": "python",
   "nbconvert_exporter": "python",
   "pygments_lexer": "ipython2",
   "version": "2.7.6"
  }
 },
 "nbformat": 4,
 "nbformat_minor": 5
}
