{
 "cells": [
  {
   "cell_type": "markdown",
   "source": [
    "1 задание"
   ],
   "metadata": {
    "collapsed": false
   },
   "id": "7477be480e76e1cd"
  },
  {
   "cell_type": "code",
   "outputs": [
    {
     "name": "stdout",
     "output_type": "stream",
     "text": [
      "\n",
      "Тебя зовут: Иван Ипатов\n",
      "Тебе 19 лет\n",
      "Ты живёшь в городе Екатеринбург\n"
     ]
    }
   ],
   "source": [
    "name = input('Как тебя зовут? ')\n",
    "age = input('Сколько тебе лет? ')\n",
    "address = input('Где ты живёшь? ')\n",
    "\n",
    "\n",
    "print('\\nТебя зовут: ' + name)\n",
    "print(f'Тебе {age} лет')\n",
    "print('Ты живёшь в городе ' + address)"
   ],
   "metadata": {
    "collapsed": false,
    "ExecuteTime": {
     "end_time": "2024-09-19T11:29:01.255564Z",
     "start_time": "2024-09-19T11:28:47.752807Z"
    }
   },
   "id": "50c461670ac25208",
   "execution_count": 1
  },
  {
   "cell_type": "markdown",
   "source": [
    "Собрать числа до нуля и вывести среднее арифметическое"
   ],
   "metadata": {
    "collapsed": false
   },
   "id": "96794a601596e4eb"
  },
  {
   "cell_type": "code",
   "outputs": [
    {
     "name": "stdout",
     "output_type": "stream",
     "text": [
      "1.5\n"
     ]
    }
   ],
   "source": [
    "numbers = []\n",
    "while numbers.count(0) < 1:\n",
    "    numbers += [int(i) for i in input()]\n",
    "\n",
    "print(sum(numbers) / len(numbers))"
   ],
   "metadata": {
    "collapsed": false,
    "ExecuteTime": {
     "end_time": "2024-09-19T11:29:16.683358Z",
     "start_time": "2024-09-19T11:29:08.602804Z"
    }
   },
   "id": "87c850ecd09fb5fe",
   "execution_count": 2
  },
  {
   "cell_type": "markdown",
   "source": [
    "Собирать числа до 3 нуля "
   ],
   "metadata": {
    "collapsed": false
   },
   "id": "65871012fbfe765e"
  },
  {
   "cell_type": "code",
   "outputs": [],
   "source": [
    "numbers = []\n",
    "while numbers.count(0) < 3:\n",
    "    numbers += [int(i) for i in input()]\n",
    "\n",
    "print(sum(numbers) / len(numbers))"
   ],
   "metadata": {
    "collapsed": false
   },
   "id": "51a24151f2789e87"
  },
  {
   "cell_type": "markdown",
   "source": [
    "Собирать числа до 3 нулей подряд"
   ],
   "metadata": {
    "collapsed": false
   },
   "id": "87d26b249cc7bcd"
  },
  {
   "cell_type": "code",
   "outputs": [],
   "source": [
    "numbers = []\n",
    "zeros = 0\n",
    "while zeros < 3:\n",
    "    numbers += [int(i) for i in input()]\n",
    "    if numbers[-1] == 0:\n",
    "        zeros += 1\n",
    "    else:\n",
    "        zeros = 0\n",
    "print(sum(numbers) / len(numbers))"
   ],
   "metadata": {
    "collapsed": false
   },
   "id": "a1e29918fb2ad339"
  },
  {
   "cell_type": "markdown",
   "source": [
    "Вывести все простые делители числа"
   ],
   "metadata": {
    "collapsed": false
   },
   "id": "edeeb234be5fc550"
  },
  {
   "cell_type": "code",
   "outputs": [
    {
     "name": "stdout",
     "output_type": "stream",
     "text": [
      "Простые делители числа 10: 2, 5\n"
     ]
    }
   ],
   "source": [
    "def is_prime(num):\n",
    "    if num < 2:\n",
    "        return False\n",
    "    for i in range(2, int(num**0.5) + 1):\n",
    "        if num % i == 0:\n",
    "            return False\n",
    "    return True\n",
    "\n",
    "def prime_divisors(n):\n",
    "    divisors = []\n",
    "    for i in range(2, n + 1):\n",
    "        if n % i == 0 and is_prime(i):\n",
    "            divisors.append(i)\n",
    "    return divisors\n",
    "\n",
    "\n",
    "n = int(input(\"Введите число: \"))\n",
    "result = prime_divisors(n)\n",
    "if result:\n",
    "    print(f\"Простые делители числа {n}: {', '.join(map(str, result))}\")\n",
    "else:\n",
    "    print(f\"У числа {n} нет простых делителей.\")"
   ],
   "metadata": {
    "collapsed": false,
    "ExecuteTime": {
     "end_time": "2024-09-19T11:34:02.138214Z",
     "start_time": "2024-09-19T11:33:49.402174Z"
    }
   },
   "id": "443c2d839aeefc58",
   "execution_count": 3
  },
  {
   "cell_type": "markdown",
   "source": [
    "Поиск простых чисел методом решета Эратосфена"
   ],
   "metadata": {
    "collapsed": false
   },
   "id": "e64fcacf3bf861d4"
  },
  {
   "cell_type": "code",
   "outputs": [
    {
     "name": "stdout",
     "output_type": "stream",
     "text": [
      "Простые числа до 10: [2, 3, 5, 7]\n"
     ]
    }
   ],
   "source": [
    "def sieve_of_eratosthenes(n):\n",
    "    primes = [True] * (n + 1)\n",
    "    primes[0] = primes[1] = False  \n",
    "    \n",
    "\n",
    "    for i in range(2, int(n**0.5) + 1):\n",
    "        if primes[i]:\n",
    "            for j in range(i * i, n + 1, i):\n",
    "                primes[j] = False\n",
    "    \n",
    "\n",
    "    return [i for i in range(2, n + 1) if primes[i]]\n",
    "\n",
    "n = int(input(\"Введите число: \"))\n",
    "prime_numbers = sieve_of_eratosthenes(n)\n",
    "print(f\"Простые числа до {n}: {prime_numbers}\")"
   ],
   "metadata": {
    "collapsed": false,
    "ExecuteTime": {
     "end_time": "2024-09-19T11:40:17.924368Z",
     "start_time": "2024-09-19T11:40:15.724793Z"
    }
   },
   "id": "c7797e853deab80b",
   "execution_count": 5
  },
  {
   "cell_type": "markdown",
   "source": [
    "Методом Сундарама"
   ],
   "metadata": {
    "collapsed": false
   },
   "id": "70fc3cb41e919277"
  },
  {
   "cell_type": "code",
   "outputs": [
    {
     "name": "stdout",
     "output_type": "stream",
     "text": [
      "Простые числа до 21: [2, 3, 5, 7, 11, 13, 17, 19]\n"
     ]
    }
   ],
   "source": [
    "def sieve_of_sundaram(n):\n",
    "    m = (n - 1) // 2\n",
    "    \n",
    "    sieve = [True] * (m + 1)\n",
    "    \n",
    "    for i in range(1, m + 1):\n",
    "        j = i\n",
    "        while i + j + 2 * i * j <= m:\n",
    "            sieve[i + j + 2 * i * j] = False\n",
    "            j += 1\n",
    "    \n",
    "    primes = [2] if n > 2 else [] \n",
    "    primes += [2 * i + 1 for i in range(1, m + 1) if sieve[i]]\n",
    "    \n",
    "    return primes\n",
    "\n",
    "n = int(input(\"Введите число: \"))\n",
    "prime_numbers = sieve_of_sundaram(n)\n",
    "print(f\"Простые числа до {n}: {prime_numbers}\")"
   ],
   "metadata": {
    "collapsed": false,
    "ExecuteTime": {
     "end_time": "2024-09-19T11:44:22.880618Z",
     "start_time": "2024-09-19T11:44:20.449281Z"
    }
   },
   "id": "e3c5840e2bf794e5",
   "execution_count": 7
  },
  {
   "cell_type": "code",
   "outputs": [],
   "source": [],
   "metadata": {
    "collapsed": false
   },
   "id": "90c915dee42ebaa"
  }
 ],
 "metadata": {
  "kernelspec": {
   "display_name": "Python 3",
   "language": "python",
   "name": "python3"
  },
  "language_info": {
   "codemirror_mode": {
    "name": "ipython",
    "version": 2
   },
   "file_extension": ".py",
   "mimetype": "text/x-python",
   "name": "python",
   "nbconvert_exporter": "python",
   "pygments_lexer": "ipython2",
   "version": "2.7.6"
  }
 },
 "nbformat": 4,
 "nbformat_minor": 5
}
