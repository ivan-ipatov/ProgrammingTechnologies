{
 "cells": [
  {
   "cell_type": "markdown",
   "id": "7477be480e76e1cd",
   "metadata": {
    "collapsed": false
   },
   "source": [
    "1 задание"
   ]
  },
  {
   "cell_type": "code",
   "execution_count": null,
   "id": "50c461670ac25208",
   "metadata": {
    "collapsed": false
   },
   "outputs": [],
   "source": [
    "name = input('Как тебя зовут? ')\n",
    "age = input('Сколько тебе лет? ')\n",
    "address = input('Где ты живёшь? ')\n",
    "\n",
    "\n",
    "print('\\nТебя зовут: ' + name)\n",
    "print(f'Тебе {age} лет')\n",
    "print('Ты живёшь в городе ' + address)"
   ]
  },
  {
   "cell_type": "markdown",
   "id": "96794a601596e4eb",
   "metadata": {
    "collapsed": false
   },
   "source": [
    "Собрать числа до нуля и вывести среднее арифметическое"
   ]
  },
  {
   "cell_type": "code",
   "execution_count": null,
   "id": "87c850ecd09fb5fe",
   "metadata": {
    "collapsed": false
   },
   "outputs": [],
   "source": [
    "numbers = []\n",
    "while numbers.count(0) < 1:\n",
    "    numbers += [int(i) for i in input()]\n",
    "\n",
    "print(sum(numbers) / len(numbers))"
   ]
  },
  {
   "cell_type": "markdown",
   "id": "65871012fbfe765e",
   "metadata": {
    "collapsed": false
   },
   "source": [
    "Собирать числа до 3 нуля "
   ]
  },
  {
   "cell_type": "code",
   "execution_count": null,
   "id": "51a24151f2789e87",
   "metadata": {
    "collapsed": false
   },
   "outputs": [],
   "source": [
    "numbers = []\n",
    "while numbers.count(0) < 3:\n",
    "    numbers += [int(i) for i in input()]\n",
    "\n",
    "print(sum(numbers) / len(numbers))"
   ]
  },
  {
   "cell_type": "markdown",
   "id": "87d26b249cc7bcd",
   "metadata": {
    "collapsed": false
   },
   "source": [
    "Собирать числа до 3 нулей подряд"
   ]
  },
  {
   "cell_type": "code",
   "execution_count": null,
   "id": "a1e29918fb2ad339",
   "metadata": {
    "collapsed": false
   },
   "outputs": [],
   "source": [
    "numbers = []\n",
    "zeros = 0\n",
    "while zeros < 3:\n",
    "    numbers += [int(i) for i in input()]\n",
    "    if numbers[-1] == 0:\n",
    "        zeros += 1\n",
    "    else:\n",
    "        zeros = 0\n",
    "print(sum(numbers) / len(numbers))"
   ]
  },
  {
   "cell_type": "markdown",
   "id": "edeeb234be5fc550",
   "metadata": {
    "collapsed": false
   },
   "source": [
    "Вывести все простые делители числа"
   ]
  },
  {
   "cell_type": "code",
   "execution_count": null,
   "id": "443c2d839aeefc58",
   "metadata": {
    "collapsed": false
   },
   "outputs": [],
   "source": [
    "def is_prime(num):\n",
    "    if num < 2:\n",
    "        return False\n",
    "    for i in range(2, int(num**0.5) + 1):\n",
    "        if num % i == 0:\n",
    "            return False\n",
    "    return True\n",
    "\n",
    "def prime_divisors(n):\n",
    "    divisors = []\n",
    "    for i in range(2, n + 1):\n",
    "        if n % i == 0 and is_prime(i):\n",
    "            divisors.append(i)\n",
    "    return divisors\n",
    "\n",
    "\n",
    "n = int(input(\"Введите число: \"))\n",
    "result = prime_divisors(n)\n",
    "if result:\n",
    "    print(f\"Простые делители числа {n}: {', '.join(map(str, result))}\")\n",
    "else:\n",
    "    print(f\"У числа {n} нет простых делителей.\")"
   ]
  },
  {
   "cell_type": "markdown",
   "id": "e64fcacf3bf861d4",
   "metadata": {
    "collapsed": false
   },
   "source": [
    "Поиск простых чисел методом решета Эратосфена"
   ]
  },
  {
   "cell_type": "code",
   "execution_count": null,
   "id": "c7797e853deab80b",
   "metadata": {
    "collapsed": false
   },
   "outputs": [],
   "source": [
    "def sieve_of_eratosthenes(n):\n",
    "    primes = [True] * (n + 1)\n",
    "    primes[0] = primes[1] = False  \n",
    "    \n",
    "\n",
    "    for i in range(2, int(n**0.5) + 1):\n",
    "        if primes[i]:\n",
    "            for j in range(i * i, n + 1, i):\n",
    "                primes[j] = False\n",
    "    \n",
    "\n",
    "    return [i for i in range(2, n + 1) if primes[i]]\n",
    "\n",
    "n = int(input(\"Введите число: \"))\n",
    "prime_numbers = sieve_of_eratosthenes(n)\n",
    "print(f\"Простые числа до {n}: {prime_numbers}\")"
   ]
  },
  {
   "cell_type": "markdown",
   "id": "70fc3cb41e919277",
   "metadata": {
    "collapsed": false
   },
   "source": [
    "Методом Сундарама"
   ]
  },
  {
   "cell_type": "code",
   "execution_count": null,
   "id": "e3c5840e2bf794e5",
   "metadata": {
    "collapsed": false
   },
   "outputs": [],
   "source": [
    "def sundarama(n):\n",
    "    m = (n - 1) // 2\n",
    "    \n",
    "    sieve = [True] * (m + 1)\n",
    "    \n",
    "    for i in range(1, m + 1):\n",
    "        j = i\n",
    "        while i + j + 2 * i * j <= m:\n",
    "            sieve[i + j + 2 * i * j] = False\n",
    "            j += 1\n",
    "    \n",
    "    primes = [2] if n > 2 else [] \n",
    "    primes += [2 * i + 1 for i in range(1, m + 1) if sieve[i]]\n",
    "    \n",
    "    return primes\n",
    "\n",
    "n = int(input(\"Введите число: \"))\n",
    "prime_numbers = sundarama(n)\n",
    "print(f\"Простые числа до {n}: {prime_numbers}\")"
   ]
  }
 ],
 "metadata": {
  "kernelspec": {
   "display_name": "Python 3 (ipykernel)",
   "language": "python",
   "name": "python3"
  },
  "language_info": {
   "codemirror_mode": {
    "name": "ipython",
    "version": 3
   },
   "file_extension": ".py",
   "mimetype": "text/x-python",
   "name": "python",
   "nbconvert_exporter": "python",
   "pygments_lexer": "ipython3",
   "version": "3.12.6"
  }
 },
 "nbformat": 4,
 "nbformat_minor": 5
}
