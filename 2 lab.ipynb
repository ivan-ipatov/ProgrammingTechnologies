{
 "cells": [
  {
   "metadata": {},
   "cell_type": "markdown",
   "source": [
    "В настольной игре Скрабл (Scrabble) каждая буква имеет определенную ценность. В случае с английским алфавитом очки распределяются так:\n",
    "\n",
    "A, E, I, O, U, L, N, S, T, R – 1 очко;\n",
    "\n",
    "D, G – 2 очка;\n",
    "\n",
    "B, C, M, P – 3 очка;\n",
    "\n",
    "F, H, V, W, Y – 4 очка;\n",
    "\n",
    "K – 5 очков;\n",
    "\n",
    "J, X – 8 очков;\n",
    "\n",
    "Q, Z – 10 очков.\n",
    "\n",
    "А русские буквы оцениваются так:\n",
    "\n",
    "А, В, Е, И, Н, О, Р, С, Т – 1 очко;\n",
    "\n",
    "Д, К, Л, М, П, У – 2 очка;\n",
    "\n",
    "Б, Г, Ё, Ь, Я – 3 очка;\n",
    "\n",
    "Й, Ы – 4 очка;\n",
    "\n",
    "Ж, З, Х, Ц, Ч – 5 очков;\n",
    "\n",
    "Ш, Э, Ю – 8 очков;\n",
    "\n",
    "Ф, Щ, Ъ – 10 очков.\n",
    "\n",
    "Напишите программу, которая вычисляет стоимость введенного пользователем слова. Будем считать, что на вход подается только одно слово, которое содержит либо только английские, либо только русские буквы."
   ],
   "id": "5192d1967cb9150a"
  },
  {
   "metadata": {
    "ExecuteTime": {
     "end_time": "2024-09-26T07:36:04.884098Z",
     "start_time": "2024-09-26T07:36:01.504346Z"
    }
   },
   "cell_type": "code",
   "source": [
    "eng_one = [\"a\", \"e\", \"i\", \"o\", \"u\", \"l\", \"n\", \"s\", \"t\", \"r\"]\n",
    "eng_two = [\"d\", \"g\"]\n",
    "eng_three = [\"b\", \"c\", \"m\", \"p\"]\n",
    "eng_four = [\"f\", \"h\", \"v\", \"w\", \"y\"]\n",
    "eng_five = [\"k\"]\n",
    "eng_eight = [\"j\", \"x\"]\n",
    "eng_ten = [\"q\", \"z\"]\n",
    "\n",
    "rus_one = [\"а\", \"в\", \"е\", \"и\", \"н\", \"о\", \"р\", \"с\", \"т\",]\n",
    "rus_two = [\"д\", \"к\", \"л\", \"м\", \"п\", \"у\"]\n",
    "rus_three = [\"б\", \"г\", \"ё\", \"ь\", \"я\"]\n",
    "rus_four = [\"й\", \"ы\"]\n",
    "rus_five = [\"ж\", \"з\", \"х\", \"ц\", \"ч\"]\n",
    "rus_eight = [\"ш\", \"э\", 'ю']\n",
    "rus_ten = [\"ф\", \"щ\", \"ъ\"]\n",
    "\n",
    "count = 0\n",
    "inp = input()\n",
    "\n",
    "for i in inp:\n",
    "    if i in eng_one or i in rus_one:\n",
    "        count += 1\n",
    "    elif i in eng_two or i in rus_two:\n",
    "        count += 2\n",
    "    elif i in eng_three or i in rus_three:\n",
    "        count += 3\n",
    "    elif i in eng_four or i in rus_four:\n",
    "        count += 4\n",
    "    elif i in eng_five or i in rus_five:\n",
    "        count += 5\n",
    "    elif i in eng_eight or i in rus_eight:\n",
    "        count += 8\n",
    "    elif i in rus_ten or i in rus_ten:\n",
    "        count += 10\n",
    "    else:\n",
    "        print('Неправильный символ, введите слово заново')\n",
    "        pass\n",
    "print(count)"
   ],
   "id": "99a0499ff0576161",
   "outputs": [
    {
     "name": "stdout",
     "output_type": "stream",
     "text": [
      "5\n"
     ]
    }
   ],
   "execution_count": 3
  },
  {
   "metadata": {},
   "cell_type": "markdown",
   "source": "Напишите программу, которая принимает на вход строку, и отслеживает, сколько раз каждый символ уже встречался. Количество повторов добавляется к символам с помощью постфикса формата _n.",
   "id": "46b9752d4232ea51"
  },
  {
   "metadata": {
    "ExecuteTime": {
     "end_time": "2024-09-26T07:49:16.385227Z",
     "start_time": "2024-09-26T07:49:13.355393Z"
    }
   },
   "cell_type": "code",
   "source": [
    "str_array = input().split()\n",
    "result = {}\n",
    "for i in str_array:\n",
    "    if i in result:\n",
    "        print(f'{i}_{result[i]}', end=' ')\n",
    "    else:\n",
    "        print(i, end=' ')\n",
    "    result[i] = result.get(i, 0) + 1"
   ],
   "id": "c9e65cd950f12019",
   "outputs": [
    {
     "name": "stdout",
     "output_type": "stream",
     "text": [
      "q q_1 q_2 2 "
     ]
    }
   ],
   "execution_count": 32
  },
  {
   "metadata": {},
   "cell_type": "markdown",
   "source": [
    "Вводится количество абитуриентов и количество мест. Затем вводятся баллы абитуриентов по убыванию. Вывести количество абитуриентов, имеющих полупроходной балл. Например: Количество абитуриентов n=12 Количество мест m=6 Баллы a = 9 9 8 8 7 7 7 7 7 6 6 5\n",
    "\n",
    "Полупроходной балл -7.\n",
    "\n",
    "Дополнительно:\n",
    "\n",
    "· без сортировки,\n",
    "\n",
    "· с неизвестным максимальным баллом,\n",
    "\n",
    "· с ограничением на память - не хранить все баллы в списке."
   ],
   "id": "98fec4b1ae8c4b8f"
  },
  {
   "metadata": {
    "ExecuteTime": {
     "end_time": "2024-10-09T12:43:16.615089Z",
     "start_time": "2024-10-09T12:42:56.046521Z"
    }
   },
   "cell_type": "code",
   "source": [
    "n = int(str_array(\"Введите количество абитуриентов: \"))\n",
    "m = int(str_array(\"Введите количество мест: \"))\n",
    "\n",
    "current_index = 0 \n",
    "semi_passing_score = 7  # Полупроходной балл\n",
    "count_semi_passing = 0  # Количество абитуриентов с полупроходным баллом\n",
    "places_left = m  # Оставшиеся места\n",
    "\n",
    "for _ in range(n):\n",
    "    score = int(str_array())\n",
    "\n",
    "    if places_left > 0:\n",
    "        if places_left == 1:  # Если это последнее место, определяем полупроходной балл\n",
    "            semi_passing_score = score\n",
    "        \n",
    "        places_left -= 1  # Уменьшаем количество доступных мест\n",
    "    else:\n",
    "        # Если уже все места заполнены, считаем тех, кто имеет полупроходной балл\n",
    "        if score == semi_passing_score:\n",
    "            count_semi_passing += 1\n",
    "        elif score < semi_passing_score:\n",
    "            break  \n",
    "\n",
    "print(f\"Полупроходной балл: {semi_passing_score}\")\n",
    "print(f\"Количество абитуриентов с полупроходным баллом: {count_semi_passing}\")"
   ],
   "id": "580cc50bcdfb0e7d",
   "outputs": [
    {
     "name": "stdout",
     "output_type": "stream",
     "text": [
      "Полупроходной балл: 7\n",
      "Количество абитуриентов с полупроходным баллом: 4\n"
     ]
    }
   ],
   "execution_count": 6
  },
  {
   "metadata": {},
   "cell_type": "markdown",
   "source": [
    "Вводится количество дней. Метеостанция раз в день измеряет температуру.\n",
    "\n",
    "Найти:\n",
    "\n",
    "1) Количество дней самого долгого периода возрастания температуры.\n",
    "\n",
    "2) Вывести перепад между температурой первого и последнего дня в самом долгом периоде возрастания. Если таких периодов несколько, то вывести максимальный перепад.\n",
    "\n",
    "Решить со списками и без списков."
   ],
   "id": "c06d4968425e23d3"
  },
  {
   "metadata": {
    "ExecuteTime": {
     "end_time": "2024-10-09T20:01:27.315918Z",
     "start_time": "2024-10-09T20:01:04.840595Z"
    }
   },
   "cell_type": "code",
   "source": [
    "# Ввод данных\n",
    "n = int(input(\"Введите количество дней: \"))\n",
    "\n",
    "# Переменные для хранения текущего и максимального периода возрастания\n",
    "max_increase_length = 1  # Длина самого долгого периода\n",
    "current_increase_length = 1  # Длина текущего периода\n",
    "max_difference = 0  # Максимальный перепад температур\n",
    "\n",
    "# Вводим первую температуру\n",
    "prev_temp = int(input(\"Введите температуру за 1 день: \"))\n",
    "start_temp = prev_temp  # Запоминаем начальную температуру периода\n",
    "\n",
    "# Проходим по остальным дням\n",
    "for day in range(2, n + 1):\n",
    "    current_temp = int(input(f\"Введите температуру за {day} день: \"))\n",
    "    \n",
    "    if current_temp > prev_temp:  # Если температура возросла\n",
    "        current_increase_length += 1  # Увеличиваем длину текущего периода\n",
    "    else:\n",
    "        # Период возрастания закончился, проверяем длину\n",
    "        if current_increase_length > max_increase_length:\n",
    "            max_increase_length = current_increase_length\n",
    "            max_difference = prev_temp - start_temp\n",
    "        elif current_increase_length == max_increase_length:\n",
    "            max_difference = max(max_difference, prev_temp - start_temp)\n",
    "        \n",
    "        # Начинаем новый период\n",
    "        current_increase_length = 1\n",
    "        start_temp = current_temp\n",
    "\n",
    "    prev_temp = current_temp\n",
    "\n",
    "# Проверяем последний период, если он был наибольшим\n",
    "if current_increase_length > max_increase_length:\n",
    "    max_increase_length = current_increase_length\n",
    "    max_difference = prev_temp - start_temp\n",
    "elif current_increase_length == max_increase_length:\n",
    "    max_difference = max(max_difference, prev_temp - start_temp)\n",
    "\n",
    "print(f\"Самый долгий период возрастания температуры: {max_increase_length} дней\")\n",
    "print(f\"Перепад температуры в этом периоде: {max_difference}\")"
   ],
   "id": "389695eae2cb0439",
   "outputs": [
    {
     "name": "stdout",
     "output_type": "stream",
     "text": [
      "Самый долгий период возрастания температуры: 4 дней\n",
      "Перепад температуры в этом периоде: 6\n"
     ]
    }
   ],
   "execution_count": 3
  }
 ],
 "metadata": {
  "kernelspec": {
   "display_name": "Python 3",
   "language": "python",
   "name": "python3"
  },
  "language_info": {
   "codemirror_mode": {
    "name": "ipython",
    "version": 2
   },
   "file_extension": ".py",
   "mimetype": "text/x-python",
   "name": "python",
   "nbconvert_exporter": "python",
   "pygments_lexer": "ipython2",
   "version": "2.7.6"
  }
 },
 "nbformat": 4,
 "nbformat_minor": 5
}
