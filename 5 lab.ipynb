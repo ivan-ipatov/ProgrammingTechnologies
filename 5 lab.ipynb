{
 "cells": [
  {
   "metadata": {},
   "cell_type": "markdown",
   "source": "Матрица имеет 1 седловой элемент, равный 4, который расположен в первой строке в третьем столбце матрицы, так как он одновременно является минимальным элементом в соответствующей строке матрицы (в данном случае в первой строке матрицы) и максимальным элементом в соответствующем столбце матрицы (в данном случае в третьем столбце матрицы).",
   "id": "4fec902984eca0b0"
  },
  {
   "metadata": {
    "ExecuteTime": {
     "end_time": "2024-11-28T14:09:00.745929Z",
     "start_time": "2024-11-28T14:09:00.738529Z"
    }
   },
   "cell_type": "code",
   "source": [
    "sp = []\n",
    "# Матрица из задания\n",
    "mx = [\n",
    "    [2, 3, 5, 2],\n",
    "    [2, 4, 6, 2],\n",
    "    [-2, 7, 2, 0]\n",
    "]\n",
    "\n",
    "for r, line in enumerate(mx):\n",
    "    minimum = min(line)  # Минимальный элемент в строке\n",
    "    for c, element in enumerate(line):\n",
    "        if element == minimum == max([row[c] for row in mx]):  # Проверка условия седлового элемента\n",
    "            sp.append([r + 1, c + 1, element])  # Добавляем строку, столбец и значение\n",
    "\n",
    "# Вывод результата\n",
    "for row, col, value in sp:\n",
    "    print(f\"Строка: {row}, Столбец: {col}, Значение: {value}\")"
   ],
   "id": "636d9a5cca4e5e5d",
   "outputs": [
    {
     "name": "stdout",
     "output_type": "stream",
     "text": [
      "Строка: 1, Столбец: 1, Значение: 2\n",
      "Строка: 1, Столбец: 4, Значение: 2\n",
      "Строка: 2, Столбец: 1, Значение: 2\n",
      "Строка: 2, Столбец: 4, Значение: 2\n"
     ]
    }
   ],
   "execution_count": 3
  },
  {
   "metadata": {},
   "cell_type": "markdown",
   "source": [
    "Программа принимает на вход число членов последовательности Фибоначчи и при помощи рекурсии вычисляет все числа, входящие в эту последовательность.\n",
    "\n",
    "Результаты работы программы\n",
    "\n",
    "Пример 1:\n",
    "\n",
    "Введите число членов последовательности:5\n",
    "\n",
    "Последовательность Фибоначчи:\n",
    "\n",
    "0 1 1 2 3\n",
    "\n",
    "\n",
    "Пример 2:\n",
    "\n",
    "Введите число членов последовательности:7\n",
    "\n",
    "Последовательность Фибоначчи:\n",
    "\n",
    "0 1 1 2 3 5 8"
   ],
   "id": "a4142a2cf5c23316"
  },
  {
   "metadata": {
    "ExecuteTime": {
     "end_time": "2024-11-28T14:12:17.445847Z",
     "start_time": "2024-11-28T14:12:08.204351Z"
    }
   },
   "cell_type": "code",
   "source": [
    "def fibonacci(n):\n",
    "    \"\"\"\n",
    "    Вычисляет n-е число Фибоначчи рекурсивно.\n",
    "    \"\"\"\n",
    "    if n == 0:\n",
    "        return 0\n",
    "    elif n == 1:\n",
    "        return 1\n",
    "    else:\n",
    "        return fibonacci(n - 1) + fibonacci(n - 2)\n",
    "\n",
    "def fibonacci_sequence(count):\n",
    "    \"\"\"\n",
    "    Возвращает последовательность первых count чисел Фибоначчи.\n",
    "    \"\"\"\n",
    "    return [fibonacci(i) for i in range(count)]\n",
    "\n",
    "# Основная программа\n",
    "try:\n",
    "    count = int(input(\"Введите число членов последовательности: \"))\n",
    "    if count <= 0:\n",
    "        print(\"Число членов последовательности должно быть положительным!\")\n",
    "    else:\n",
    "        sequence = fibonacci_sequence(count)\n",
    "        print(\"Последовательность Фибоначчи:\")\n",
    "        print(\" \".join(map(str, sequence)))\n",
    "except ValueError:\n",
    "    print(\"Ошибка! Введите целое число.\")"
   ],
   "id": "95b8fb864c744f9d",
   "outputs": [
    {
     "name": "stdout",
     "output_type": "stream",
     "text": [
      "Последовательность Фибоначчи:\n",
      "0 1 1\n"
     ]
    }
   ],
   "execution_count": 4
  },
  {
   "metadata": {},
   "cell_type": "markdown",
   "source": [
    "Рекурсивный перевод числа в двоичную систему счисления.\n",
    "\n",
    "Программа принимает число и переводит его в двоичную систему счисления с использованием рекурсии.\n",
    "\n",
    "Результат работы программы\n",
    "\n",
    "Пример 1:\n",
    "\n",
    "Введите число: 20\n",
    "\n",
    "Двоичная форма числа:\n",
    "\n",
    "1 0 1 0 0\n",
    "\n",
    "\n",
    "Пример 2:\n",
    "\n",
    "Введите число: 7\n",
    "\n",
    "Двоичная форма числа:\n",
    "\n",
    "1 1 1"
   ],
   "id": "f3dc8e77079ac4c5"
  },
  {
   "metadata": {
    "ExecuteTime": {
     "end_time": "2024-11-28T14:16:31.196787Z",
     "start_time": "2024-11-28T14:16:28.549978Z"
    }
   },
   "cell_type": "code",
   "source": [
    "def decimal_to_binary(n):\n",
    "    \"\"\"\n",
    "    Рекурсивно переводит десятичное число в двоичную систему счисления.\n",
    "    \"\"\"\n",
    "    if n == 0:\n",
    "        return \"0\"\n",
    "    elif n == 1:\n",
    "        return \"1\"\n",
    "    else:\n",
    "        return decimal_to_binary(n // 2) + str(n % 2)\n",
    "\n",
    "# Основная программа\n",
    "try:\n",
    "    number = int(input(\"Введите число: \"))\n",
    "    if number < 0:\n",
    "        print(\"Введите неотрицательное число!\")\n",
    "    else:\n",
    "        binary = decimal_to_binary(number)\n",
    "        print(\"Двоичная форма числа:\")\n",
    "        print(\" \".join(binary))  # Вывод с разделением символов пробелами\n",
    "except ValueError:\n",
    "    print(\"Ошибка! Введите целое число.\")"
   ],
   "id": "5f0799393442749c",
   "outputs": [
    {
     "name": "stdout",
     "output_type": "stream",
     "text": [
      "Двоичная форма числа:\n",
      "1 0 1 0 0\n"
     ]
    }
   ],
   "execution_count": 5
  }
 ],
 "metadata": {
  "kernelspec": {
   "display_name": "Python 3",
   "language": "python",
   "name": "python3"
  },
  "language_info": {
   "codemirror_mode": {
    "name": "ipython",
    "version": 2
   },
   "file_extension": ".py",
   "mimetype": "text/x-python",
   "name": "python",
   "nbconvert_exporter": "python",
   "pygments_lexer": "ipython2",
   "version": "2.7.6"
  }
 },
 "nbformat": 4,
 "nbformat_minor": 5
}
