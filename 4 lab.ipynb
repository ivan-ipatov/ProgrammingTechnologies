{
 "cells": [
  {
   "metadata": {},
   "cell_type": "markdown",
   "source": [
    "Построение списков чисел-близнецов. Это простые числа, которые находятся рядом. Вот списки близнецов: [2,3,5,7] [11,13] [17,19] [23] – само по себе [29,31]\n",
    "\n",
    "Решить задачу подумать и описать, в какой коллекции и почему лучше сохранять результаты."
   ],
   "id": "f542f61990752a5c"
  },
  {
   "metadata": {},
   "cell_type": "markdown",
   "source": [
    "Почему выбран список списков?\n",
    "\n",
    "\t1.\tПростота доступа: для анализа можно просто обращаться по индексу.\n",
    "\t2.\tЯсность структуры: каждая группа (пара или одиночное число) — это отдельный список.\n",
    "\t3.\tКомпактность: список списков занимает меньше места, чем, например, словарь.\n",
    "\t\n",
    "Возможные улучшения\n",
    "\n",
    "Если важно дополнительно группировать данные (например, метки “одиночное” или “пара”), можно использовать словарь."
   ],
   "id": "3453e6f50cf927e6"
  },
  {
   "cell_type": "code",
   "id": "initial_id",
   "metadata": {
    "collapsed": true,
    "ExecuteTime": {
     "end_time": "2024-11-28T12:00:38.860283Z",
     "start_time": "2024-11-28T12:00:38.855765Z"
    }
   },
   "source": [
    "def is_prime(n):\n",
    "    if n < 2:\n",
    "        return False\n",
    "    for i in range(2, int(n**0.5) + 1):\n",
    "        if n % i == 0:\n",
    "            return False\n",
    "    return True\n",
    "\n",
    "def find_prime_twins(limit):\n",
    "\n",
    "    primes = [n for n in range(2, limit + 1) if is_prime(n)]\n",
    "    result = []\n",
    "    group = [] \n",
    "    \n",
    "    for i in range(len(primes)):\n",
    "        if i > 0 and primes[i] - primes[i - 1] == 2:  \n",
    "            if primes[i - 1] not in group: \n",
    "                group.append(primes[i - 1])\n",
    "            group.append(primes[i])\n",
    "        else:\n",
    "            if group:  \n",
    "                result.append(group)\n",
    "                group = []\n",
    "    if group: \n",
    "        result.append(group)\n",
    "\n",
    "    for prime in primes:\n",
    "        if all(prime not in group for group in result):\n",
    "            result.append([prime])\n",
    "    return result\n",
    "\n",
    "result = find_prime_twins(50)\n",
    "print(result)"
   ],
   "outputs": [
    {
     "name": "stdout",
     "output_type": "stream",
     "text": [
      "[[3, 5, 7], [11, 13], [17, 19], [29, 31], [41, 43], [2], [23], [37], [47]]\n"
     ]
    }
   ],
   "execution_count": 27
  },
  {
   "metadata": {},
   "cell_type": "markdown",
   "source": [
    "Напишите функцию, которая принимает два списка и возвращает новый список, в котором каждый элемент представляет сумму соответствующих элементов обоих списков.\n",
    "\n",
    "Пример работы:\n",
    "\n",
    "Первый список: [8, 2, 3, 7]\n",
    "\n",
    "Второй список: [5, 6, 10, 7]\n",
    "\n",
    "Результат сложения: [13, 8, 13, 14]"
   ],
   "id": "75433bb275f6aa6f"
  },
  {
   "metadata": {
    "ExecuteTime": {
     "end_time": "2024-11-28T12:09:00.794804Z",
     "start_time": "2024-11-28T12:09:00.788234Z"
    }
   },
   "cell_type": "code",
   "source": [
    "def sum_lists(list1, list2):\n",
    "    if len(list1) != len(list2):\n",
    "        raise ValueError(\"Оба списка должны быть одной длины.\")\n",
    "    return [a + b for a, b in zip(list1, list2)]\n",
    "\n",
    "list1 = [8, 2, 3, 7]\n",
    "list2 = [5, 6, 10, 7]\n",
    "\n",
    "result = sum_lists(list1, list2)\n",
    "print(\"Результат сложения:\", result)"
   ],
   "id": "f417b2ef74398b3e",
   "outputs": [
    {
     "name": "stdout",
     "output_type": "stream",
     "text": [
      "Результат сложения: [13, 8, 13, 14]\n"
     ]
    }
   ],
   "execution_count": 28
  },
  {
   "metadata": {},
   "cell_type": "markdown",
   "source": [
    "Скалярное произведение векторов a (a1, a2, a3, ...aN) и b (b1, b2, b3, ...bN) определяется с помощью формулы:\n",
    "\n",
    "(a,b) = a1*b1 + a2*b2 + a3*b3 + .... aN*bN\n",
    "\n",
    "Напишите функцию, которая принимает два вектора - два списка чисел и возвращает скалярное произведение векторов переданных списков.\n",
    "\n",
    "Пример работы:\n",
    "\n",
    "Первый вектор: [1, 2, 3, 4]\n",
    "\n",
    "Второй вектор: [5, 6, 7, 8]\n",
    "\n",
    "Скалярное произведение: 70"
   ],
   "id": "fe6d303985e72b8a"
  },
  {
   "metadata": {
    "ExecuteTime": {
     "end_time": "2024-11-28T12:13:52.866144Z",
     "start_time": "2024-11-28T12:13:52.863477Z"
    }
   },
   "cell_type": "code",
   "source": [
    "def scalar_product(vector1, vector2):\n",
    "    if len(vector1) != len(vector2):\n",
    "        raise ValueError(\"Оба вектора должны быть одной длины.\")\n",
    "    return sum(a * b for a, b in zip(vector1, vector2))\n",
    "\n",
    "vector1 = [1, 2, 3, 4]\n",
    "vector2 = [5, 6, 7, 8]\n",
    "\n",
    "result = scalar_product(vector1, vector2)\n",
    "print(\"Скалярное произведение:\", result)"
   ],
   "id": "90b56acd3f7bd3a3",
   "outputs": [
    {
     "name": "stdout",
     "output_type": "stream",
     "text": [
      "Скалярное произведение: 10\n"
     ]
    }
   ],
   "execution_count": 30
  },
  {
   "metadata": {},
   "cell_type": "markdown",
   "source": [
    "На входе имеем список строк разной длины. Необходимо написать функцию, которая вернет новый список из строк одинаковой длины. Длину итоговой строки определяем исходя из самой большой из них. Если конкретная строка короче самой длинной, дополнить ее нижними подчеркиваниями с правого края до требуемого количества символов. Расположение элементов начального списка не менять. \n",
    "Пример работы: \n",
    "\n",
    "['крот____', 'белка___', 'выхухоль'] \n",
    "\n",
    "['a____', 'aa___', 'aaa__', 'aaaa_', 'aaaaa'] \n",
    "\n",
    "['qweasdqweas', 'q__________', 'rteww______', 'ewqqqqq____']"
   ],
   "id": "70a6d15fa55fd735"
  },
  {
   "metadata": {
    "ExecuteTime": {
     "end_time": "2024-11-28T12:16:25.828361Z",
     "start_time": "2024-11-28T12:16:25.818420Z"
    }
   },
   "cell_type": "code",
   "source": [
    "def equalize_strings(strings):\n",
    "    max_length = max(len(s) for s in strings)  # Определяем максимальную длину строки.\n",
    "    return [s.ljust(max_length, '_') for s in strings]  # Дополняем строки символами '_' до максимальной длины.\n",
    "\n",
    "example1 = ['крот', 'белка', 'выхухоль']\n",
    "example2 = ['a', 'aa', 'aaa', 'aaaa', 'aaaaa']\n",
    "example3 = ['qweasdqweas', 'q', 'rteww', 'ewqqqqq']\n",
    "\n",
    "result1 = equalize_strings(example1)\n",
    "result2 = equalize_strings(example2)\n",
    "result3 = equalize_strings(example3)\n",
    "\n",
    "print(result1)  \n",
    "print(result2)  \n",
    "print(result3)  "
   ],
   "id": "bb41c133285d09c3",
   "outputs": [
    {
     "name": "stdout",
     "output_type": "stream",
     "text": [
      "['крот____', 'белка___', 'выхухоль']\n",
      "['a____', 'aa___', 'aaa__', 'aaaa_', 'aaaaa']\n",
      "['qweasdqweas', 'q__________', 'rteww______', 'ewqqqqq____']\n"
     ]
    }
   ],
   "execution_count": 31
  },
  {
   "metadata": {},
   "cell_type": "markdown",
   "source": "",
   "id": "56c6786e5a0e9b00"
  }
 ],
 "metadata": {
  "kernelspec": {
   "display_name": "Python 3",
   "language": "python",
   "name": "python3"
  },
  "language_info": {
   "codemirror_mode": {
    "name": "ipython",
    "version": 2
   },
   "file_extension": ".py",
   "mimetype": "text/x-python",
   "name": "python",
   "nbconvert_exporter": "python",
   "pygments_lexer": "ipython2",
   "version": "2.7.6"
  }
 },
 "nbformat": 4,
 "nbformat_minor": 5
}
